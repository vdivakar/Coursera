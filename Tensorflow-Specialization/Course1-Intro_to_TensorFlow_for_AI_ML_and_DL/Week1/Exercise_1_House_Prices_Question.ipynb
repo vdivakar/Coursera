{
  "nbformat": 4,
  "nbformat_minor": 0,
  "metadata": {
    "colab": {
      "name": "Exercise_1_House_Prices_Question.ipynb",
      "provenance": [],
      "toc_visible": true
    },
    "kernelspec": {
      "display_name": "Python 3",
      "name": "python3"
    }
  },
  "cells": [
    {
      "cell_type": "markdown",
      "metadata": {
        "colab_type": "text",
        "id": "mw2VBrBcgvGa"
      },
      "source": [
        "In this exercise you'll try to build a neural network that predicts the price of a house according to a simple formula.\n",
        "\n",
        "So, imagine if house pricing was as easy as a house costs 50k + 50k per bedroom, so that a 1 bedroom house costs 100k, a 2 bedroom house costs 150k etc.\n",
        "\n",
        "How would you create a neural network that learns this relationship so that it would predict a 7 bedroom house as costing close to 400k etc.\n",
        "\n",
        "Hint: Your network might work better if you scale the house price down. You don't have to give the answer 400...it might be better to create something that predicts the number 4, and then your answer is in the 'hundreds of thousands' etc."
      ]
    },
    {
      "cell_type": "code",
      "metadata": {
        "id": "yNt-GGnLFIxc",
        "colab_type": "code",
        "colab": {}
      },
      "source": [
        "def house_fxn(num_bedrooms):\n",
        "  return (5 + 5*num_bedrooms)"
      ],
      "execution_count": 21,
      "outputs": []
    },
    {
      "cell_type": "code",
      "metadata": {
        "colab_type": "code",
        "id": "PUNO2E6SeURH",
        "colab": {
          "base_uri": "https://localhost:8080/",
          "height": 374
        },
        "outputId": "8fe512c6-d97d-4d85-af6e-e2240899ba9c"
      },
      "source": [
        "import tensorflow as tf\n",
        "import numpy as np\n",
        "from tensorflow import keras\n",
        "from random import seed\n",
        "from random import randint\n",
        "seed(1)\n",
        "\n",
        "model = keras.Sequential(\n",
        "    keras.layers.Dense(units=1, input_shape=[1])\n",
        ")\n",
        "model.compile(optimizer='sgd', loss='mean_squared_error')\n",
        "xs = [randint(0,10) for _ in range(10)]\n",
        "ys = [house_fxn(x) for x in xs]\n",
        "model.fit(xs, ys, epochs=10)"
      ],
      "execution_count": 25,
      "outputs": [
        {
          "output_type": "stream",
          "text": [
            "Epoch 1/10\n",
            "1/1 [==============================] - 0s 1ms/step - loss: 1651.1956\n",
            "Epoch 2/10\n",
            "1/1 [==============================] - 0s 1ms/step - loss: 78.6528\n",
            "Epoch 3/10\n",
            "1/1 [==============================] - 0s 1ms/step - loss: 7.4071\n",
            "Epoch 4/10\n",
            "1/1 [==============================] - 0s 1ms/step - loss: 4.1442\n",
            "Epoch 5/10\n",
            "1/1 [==============================] - 0s 1ms/step - loss: 3.9600\n",
            "Epoch 6/10\n",
            "1/1 [==============================] - 0s 1ms/step - loss: 3.9155\n",
            "Epoch 7/10\n",
            "1/1 [==============================] - 0s 1ms/step - loss: 3.8777\n",
            "Epoch 8/10\n",
            "1/1 [==============================] - 0s 968us/step - loss: 3.8406\n",
            "Epoch 9/10\n",
            "1/1 [==============================] - 0s 1ms/step - loss: 3.8039\n",
            "Epoch 10/10\n",
            "1/1 [==============================] - 0s 1ms/step - loss: 3.7675\n"
          ],
          "name": "stdout"
        },
        {
          "output_type": "execute_result",
          "data": {
            "text/plain": [
              "<tensorflow.python.keras.callbacks.History at 0x7f5326a17b00>"
            ]
          },
          "metadata": {
            "tags": []
          },
          "execution_count": 25
        }
      ]
    },
    {
      "cell_type": "code",
      "metadata": {
        "id": "1VCEazRJGo4r",
        "colab_type": "code",
        "colab": {
          "base_uri": "https://localhost:8080/",
          "height": 68
        },
        "outputId": "43ed66c2-0f52-4850-f069-d5f682a6918b"
      },
      "source": [
        "print(xs)\n",
        "print(ys)\n",
        "print(model.predict([7.0])*10)"
      ],
      "execution_count": 26,
      "outputs": [
        {
          "output_type": "stream",
          "text": [
            "[2, 9, 1, 4, 1, 7, 7, 7, 10, 6]\n",
            "[15, 50, 10, 25, 10, 40, 40, 40, 55, 35]\n",
            "[[399.42957]]\n"
          ],
          "name": "stdout"
        }
      ]
    }
  ]
}