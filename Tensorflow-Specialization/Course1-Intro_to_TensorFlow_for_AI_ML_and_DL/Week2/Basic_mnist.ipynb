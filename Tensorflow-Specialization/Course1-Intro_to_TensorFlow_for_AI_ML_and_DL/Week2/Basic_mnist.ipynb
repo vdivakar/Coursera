{
  "nbformat": 4,
  "nbformat_minor": 0,
  "metadata": {
    "colab": {
      "name": "TF-C1W2.ipynb",
      "provenance": []
    },
    "kernelspec": {
      "name": "python3",
      "display_name": "Python 3"
    }
  },
  "cells": [
    {
      "cell_type": "code",
      "metadata": {
        "id": "c8dMKGYYOg_G",
        "colab_type": "code",
        "colab": {
          "base_uri": "https://localhost:8080/",
          "height": 272
        },
        "outputId": "addbdc0b-8c4e-467f-87a6-9b70260f7454"
      },
      "source": [
        "##Basic TF code on mnist data\n",
        "import tensorflow as tf\n",
        "from tensorflow import keras\n",
        "\n",
        "\n",
        "## Setup dataset\n",
        "mnist = keras.datasets.mnist\n",
        "(tr_images, tr_labels), (test_images, test_labels) = mnist.load_data()\n",
        "tr_images = tr_images/255.\n",
        "test_images = test_images/255.\n",
        "\n",
        "## Create model\n",
        "model = keras.Sequential([\n",
        "                          keras.layers.Flatten(),\n",
        "                          keras.layers.Dense(128, activation=tf.nn.relu),\n",
        "                          keras.layers.Dense(10, activation=tf.nn.softmax)\n",
        "])\n",
        "\n",
        "## Define losses & optimizer\n",
        "model.compile(optimizer=\"adam\",\n",
        "              loss=\"sparse_categorical_crossentropy\",\n",
        "              metrics=[\"accuracy\"])\n",
        "\n",
        "## Train\n",
        "model.fit(tr_images, tr_labels, epochs=5)\n",
        "\n",
        "## Evaluate & predict\n",
        "model.evaluate(test_images, test_labels)\n",
        "predicted_vals = model.predict(test_images[:2])\n",
        "print(predicted_vals)"
      ],
      "execution_count": 2,
      "outputs": [
        {
          "output_type": "stream",
          "text": [
            "Epoch 1/5\n",
            "1875/1875 [==============================] - 4s 2ms/step - loss: 0.2650 - accuracy: 0.9236\n",
            "Epoch 2/5\n",
            "1875/1875 [==============================] - 4s 2ms/step - loss: 0.1176 - accuracy: 0.9656\n",
            "Epoch 3/5\n",
            "1875/1875 [==============================] - 4s 2ms/step - loss: 0.0822 - accuracy: 0.9753\n",
            "Epoch 4/5\n",
            "1875/1875 [==============================] - 3s 2ms/step - loss: 0.0597 - accuracy: 0.9814\n",
            "Epoch 5/5\n",
            "1875/1875 [==============================] - 4s 2ms/step - loss: 0.0466 - accuracy: 0.9855\n",
            "313/313 [==============================] - 0s 1ms/step - loss: 0.0752 - accuracy: 0.9769\n",
            "[[2.9994194e-08 5.0055323e-08 1.5752381e-04 1.0300673e-03 1.5299394e-11\n",
            "  4.0523860e-06 2.3666859e-14 9.9880075e-01 2.0422397e-06 5.5889177e-06]\n",
            " [8.8763691e-10 2.4573297e-05 9.9995267e-01 2.2704617e-05 9.8145390e-16\n",
            "  8.7595470e-10 7.7798601e-12 3.3131102e-12 4.3022208e-08 1.0106327e-15]]\n"
          ],
          "name": "stdout"
        }
      ]
    }
  ]
}